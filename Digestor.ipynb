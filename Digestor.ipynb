{
 "cells": [
  {
   "cell_type": "code",
   "execution_count": 1,
   "id": "f48d1af6",
   "metadata": {
    "ExecuteTime": {
     "end_time": "2024-04-04T21:21:04.592256Z",
     "start_time": "2024-04-04T21:21:02.150054Z"
    }
   },
   "outputs": [],
   "source": [
    "import sys\n",
    "import os\n",
    "home=os.getcwd()\n",
    "sys.path.append(home+'/Functions')\n",
    "from PoolofKnowledge import *\n",
    "from SummariesDigestor import *\n",
    "from ShowDF import *"
   ]
  },
  {
   "cell_type": "code",
   "execution_count": 5,
   "id": "7dad6666",
   "metadata": {
    "ExecuteTime": {
     "end_time": "2024-04-04T20:41:04.222306Z",
     "start_time": "2024-04-04T20:41:03.605924Z"
    }
   },
   "outputs": [],
   "source": [
    "SummariesDigestor()"
   ]
  },
  {
   "cell_type": "code",
   "execution_count": 2,
   "id": "973a1e76",
   "metadata": {
    "ExecuteTime": {
     "end_time": "2024-04-04T21:21:18.617797Z",
     "start_time": "2024-04-04T21:21:06.704567Z"
    },
    "scrolled": false
   },
   "outputs": [],
   "source": [
    "PoolofKnowledge()"
   ]
  }
 ],
 "metadata": {
  "kernelspec": {
   "display_name": "Python 3 (ipykernel)",
   "language": "python",
   "name": "python3"
  },
  "language_info": {
   "codemirror_mode": {
    "name": "ipython",
    "version": 3
   },
   "file_extension": ".py",
   "mimetype": "text/x-python",
   "name": "python",
   "nbconvert_exporter": "python",
   "pygments_lexer": "ipython3",
   "version": "3.7.13"
  }
 },
 "nbformat": 4,
 "nbformat_minor": 5
}
