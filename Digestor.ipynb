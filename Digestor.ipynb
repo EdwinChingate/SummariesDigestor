{
 "cells": [
  {
   "cell_type": "code",
   "execution_count": 1,
   "id": "f48d1af6",
   "metadata": {
    "ExecuteTime": {
     "end_time": "2024-03-29T16:30:45.239352Z",
     "start_time": "2024-03-29T16:30:45.055827Z"
    }
   },
   "outputs": [],
   "source": [
    "import sys\n",
    "import os\n",
    "home=os.getcwd()\n",
    "sys.path.append(home+'/Functions')\n",
    "from PoolofKnowledge import *"
   ]
  },
  {
   "cell_type": "code",
   "execution_count": 2,
   "id": "973a1e76",
   "metadata": {
    "ExecuteTime": {
     "end_time": "2024-03-29T16:30:48.069216Z",
     "start_time": "2024-03-29T16:30:48.056310Z"
    }
   },
   "outputs": [
    {
     "name": "stdout",
     "output_type": "stream",
     "text": [
      "{'Osmoregulation', 'High_concentration', 'Mass_transfer', 'Natural_attenuation', 'Desenthylatraxine', 'Amino_acids', 'Environmental_biotechnology', 'Arthrobacter_aurescens_TC', 'Degradation', 'DNA_rapair', 'Natural_ecosystems', 'Limits_of_biodegradation', 'Surface_water', 'Nitrogen_source', 'Morphology', 'Atrazine', 'Xenobiotics', 'Researchers', 'Oxidative_dealkylation', 'Cell_membrane', 'Metabolism', 'Protein_repair', 'Steady-state', 'Environmental_research', 'Herbicide', 'Catabolite_repression', 'Maintenance_energy', 'Energy', 'Germany', 'Biodegradation', 'Pollutant', 'Microorganisms', 'Extremely_low_energy', 'Egli', 'Low_energy', 'Microbial_growth', 'Dissolved_degradable_organic_carbon', 'Catabolism', 'Retentostat', 'Bacteria', 'Hydrolysis', 'Extremely_low_energy_Environment', 'Secondary_metabolite', 'Experiments', 'Hydroxyatrazine', 'Proton_motive_force', 'Biotransformation', 'Arthrobacter_aurescens_TC1', 'Desisopropylatraxine', 'Low_concentration', 'Hydrolytic_pathway', 'Micropollutants', 'Pharmaceutical_drugs', 's-triazine', 'Pesticides', 'Near-zero_growth', 'Carbon_source', 'Chemostat', 'Cells', 'Ground_water', 'Enzyme_transformation', 'Biomass', 'Environment'}\n"
     ]
    }
   ],
   "source": [
    "PoolofKnowledge()"
   ]
  }
 ],
 "metadata": {
  "kernelspec": {
   "display_name": "Python 3 (ipykernel)",
   "language": "python",
   "name": "python3"
  },
  "language_info": {
   "codemirror_mode": {
    "name": "ipython",
    "version": 3
   },
   "file_extension": ".py",
   "mimetype": "text/x-python",
   "name": "python",
   "nbconvert_exporter": "python",
   "pygments_lexer": "ipython3",
   "version": "3.7.13"
  }
 },
 "nbformat": 4,
 "nbformat_minor": 5
}
