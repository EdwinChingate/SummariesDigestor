{
 "cells": [
  {
   "cell_type": "code",
   "execution_count": 1,
   "id": "f48d1af6",
   "metadata": {
    "ExecuteTime": {
     "end_time": "2024-04-05T21:09:59.138381Z",
     "start_time": "2024-04-05T21:09:58.890035Z"
    }
   },
   "outputs": [],
   "source": [
    "import sys\n",
    "import os\n",
    "home=os.getcwd()\n",
    "sys.path.append(home+'/Functions')\n",
    "from PoolofKnowledge import *\n",
    "from SummariesDigestor import *\n",
    "from ShowDF import *\n",
    "from PoolofKnowledge_to_CytoscapeNet import *"
   ]
  },
  {
   "cell_type": "code",
   "execution_count": 5,
   "id": "7dad6666",
   "metadata": {
    "ExecuteTime": {
     "end_time": "2024-04-04T20:41:04.222306Z",
     "start_time": "2024-04-04T20:41:03.605924Z"
    }
   },
   "outputs": [],
   "source": [
    "SummariesDigestor()"
   ]
  },
  {
   "cell_type": "code",
   "execution_count": 2,
   "id": "973a1e76",
   "metadata": {
    "ExecuteTime": {
     "end_time": "2024-04-04T21:21:18.617797Z",
     "start_time": "2024-04-04T21:21:06.704567Z"
    },
    "scrolled": false
   },
   "outputs": [],
   "source": [
    "PoolofKnowledge()"
   ]
  },
  {
   "cell_type": "code",
   "execution_count": 2,
   "id": "2c64e70c",
   "metadata": {
    "ExecuteTime": {
     "end_time": "2024-04-05T21:10:01.512249Z",
     "start_time": "2024-04-05T21:10:00.730646Z"
    }
   },
   "outputs": [
    {
     "name": "stdout",
     "output_type": "stream",
     "text": [
      "Hydrogen\n",
      "Volatile_solids\n",
      "Reactor_vessel\n",
      "Biogas\n",
      "Standard_deviation\n",
      "Biofilm\n",
      "Nutrients_deposit\n",
      "Biomass\n",
      "Mesophilic\n",
      "Consumable\n",
      "Automatization\n",
      "Metabolite\n",
      "Pressure_data\n",
      "Pure_culture\n",
      "Laboratory_bottle\n",
      "Chemical_oxygen_demand\n",
      "Expensive\n",
      "Nutrient\n",
      "Wastewater_treatment\n",
      "Quantification\n",
      "Microorganism\n",
      "Automatic_operation\n",
      "Controllability\n",
      "Hydraulic_retention_time\n",
      "Tygon\n",
      "Data_analysis\n",
      "Calibration\n",
      "Autoclaved\n",
      "Custom-made\n",
      "Ecosystem_performance\n",
      "Lab-scale\n",
      "Peristaltic_pump\n",
      "Nitrogen\n",
      "Series_operation\n",
      "Sample\n",
      "Wastewater_treatment_plant\n",
      "Biogas_production\n",
      "Feeding\n",
      "Noise\n",
      "Contaminant\n",
      "Chemostat\n",
      "Tubing\n",
      "Maintenance\n",
      "Total_suspended_solids\n",
      "Continuous_experiment\n",
      "Microbial_community\n",
      "Effluent\n",
      "Headspace\n",
      "Waste_deposit\n",
      "Replication\n",
      "Soluble\n",
      "Biomass_production\n",
      "R\n",
      "Environmental_conditions\n",
      "Biological_variability\n",
      "Substrate\n",
      "Labor_intensive\n",
      "Substrate_load\n",
      "Microbiology\n",
      "Anaerobic_digester\n",
      "Carbon_dioxide\n",
      "Flow_rate\n",
      "Biological_activity\n",
      "Intrinsic\n",
      "Flow_cell_reactor\n",
      "Microbial_process\n",
      "Batch_reactor\n",
      "Reproducibility\n",
      "GC\n",
      "Experimental_design\n",
      "Quasi-continuous\n",
      "Fermentation\n",
      "Inocula\n",
      "Commercial_solution\n",
      "Experiment\n",
      "Batch_experiment\n",
      "Controller\n",
      "Methane\n",
      "Repeatability\n",
      "Cap_connector\n",
      "LAMAC\n",
      "Cold-down\n",
      "Volatile_acids\n",
      "Digestate\n",
      "Kruskal-Walls_test\n",
      "Multiplex\n",
      "Microfluidic_reactor\n",
      "Complex\n",
      "Long-term_operation\n",
      "Operate\n",
      "Continuous_operation\n",
      "Oxygen\n",
      "Dynamic\n",
      "Bulk_volume\n",
      "American_Public_Health_Association\n",
      "Linear_regression\n",
      "Person\n",
      "Effluent_composition\n",
      "Dilution_rate\n",
      "Element\n",
      "Sampling\n",
      "Ethanol\n",
      "Volatile_fatty_acids\n",
      "Monitoring\n",
      "Cell\n",
      "Degassing\n",
      "Temperature\n",
      "Continuous_reactor\n",
      "Operation\n",
      "Bioprocess_engineering\n",
      "Pressure_sensor\n",
      "DNA\n",
      "Microbial_ecology\n"
     ]
    }
   ],
   "source": [
    "PoolofKnowledge_to_CytoscapeNet(fileName='FirstNet')"
   ]
  },
  {
   "cell_type": "code",
   "execution_count": 35,
   "id": "7c3e5a73",
   "metadata": {
    "ExecuteTime": {
     "end_time": "2024-04-05T21:05:50.907413Z",
     "start_time": "2024-04-05T21:05:50.903130Z"
    }
   },
   "outputs": [],
   "source": []
  }
 ],
 "metadata": {
  "kernelspec": {
   "display_name": "Python 3 (ipykernel)",
   "language": "python",
   "name": "python3"
  },
  "language_info": {
   "codemirror_mode": {
    "name": "ipython",
    "version": 3
   },
   "file_extension": ".py",
   "mimetype": "text/x-python",
   "name": "python",
   "nbconvert_exporter": "python",
   "pygments_lexer": "ipython3",
   "version": "3.7.13"
  }
 },
 "nbformat": 4,
 "nbformat_minor": 5
}
