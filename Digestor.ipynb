{
 "cells": [
  {
   "cell_type": "code",
   "execution_count": 1,
   "id": "f48d1af6",
   "metadata": {
    "ExecuteTime": {
     "end_time": "2024-03-28T20:34:09.336971Z",
     "start_time": "2024-03-28T20:34:08.989623Z"
    }
   },
   "outputs": [],
   "source": [
    "import sys\n",
    "import os\n",
    "home=os.getcwd()\n",
    "sys.path.append(home+'/Functions')\n",
    "from PoolofKnowledge import *"
   ]
  },
  {
   "cell_type": "code",
   "execution_count": 3,
   "id": "973a1e76",
   "metadata": {
    "ExecuteTime": {
     "end_time": "2024-03-28T20:35:21.010188Z",
     "start_time": "2024-03-28T20:35:21.004427Z"
    }
   },
   "outputs": [
    {
     "name": "stdout",
     "output_type": "stream",
     "text": [
      "[[['Bacteria', 'Extremely_low_energy', 'Environment'], '[[Bacteria]] adapts to [[Extremely low energy]] [[Environment]]\\n'], [['Environmental_biotechnology', 'Extremely_low_energy', 'Environment'], \"[[Environmental biotechnology]] haven't researched about [[Extremely low energy]] [[Environment]] \\n\"], [['Biodegradation', 'Xenobiotics'], \"It's important to understand [[Biodegradation]] of [[Xenobiotics]] \\n\"], [['Xenobiotics', 'Pharmaceutical_drugs', 'Pesticides'], '[[Xenobiotics]] include [[Pharmaceutical drugs]] and [[Pesticides]] \\n'], [['Xenobiotics', 'Natural_ecosystems', 'Ground_water', 'Surface_water'], 'More and more [[Xenobiotics]] are found in [[Natural ecosystems]] such as [[Ground water]] and [[Surface water]] at low concentrations\\n'], [['Atrazine', 's-triazine', 'Herbicide'], '[[Atrazine]] is a [[s-triazine]] [[Herbicide]] \\n'], [['Atrazine', 'Ground_water', 'Germany'], '[[Atrazine]] is found in [[Ground water]] in [[Germany]] \\n'], [['Germany', 'Atrazine'], '[[Germany]] banned [[Atrazine]] 30 years ago\\n'], [['Atrazine', 'Biotransformation'], '[[Atrazine]] can be [[Biotransformation]] \\n'], [['Atrazine', 'Oxidative_dealkylation', 'Desenthylatraxine', 'Desisopropylatraxine'], '[[Atrazine]] can be metabolized by [[Oxidative dealkylation]] to form [[Desenthylatraxine]] and [[Desisopropylatraxine]]\\n'], [['Atrazine', 'Hydrolysis', 'Hydroxyatrazine'], '[[Atrazine]] can be metabolized by [[Hydrolysis]] to form [[Hydroxyatrazine]]\\n'], [['Researchers', 'Atrazine', 'Low_concentration'], \"[[Researchers]] don't know why [[Atrazine]] persist at [[Low concentration]] \\n\"], [['Experiments', 'High_concentration'], '[[Experiments]] are done with [[High concentration]] (mg/L)\\n'], [['Microorganisms', 'Atrazine', 'Low_concentration'], '[[Microorganisms]] are exposed to [[Atrazine]] in [[Low concentration]] (500 ng/L) \\n'], [['Dissolved_degradable_organic_carbon', 'Ground_water'], '10 ug/L of [[Dissolved degradable organic carbon]] in [[Ground water]]\\n'], [['Amino_acids', 'Ground_water'], '1 ug/L of [[Amino acids]] in [[Ground water]]\\n'], [['Limits_of_biodegradation', 'Natural_attenuation', 'Micropollutants'], \"It's important to understand [[Limits of biodegradation]], and it's drivers, to foster [[Natural attenuation]] of [[Micropollutants]] \\n\"], [['Mass_transfer', 'Enzyme_transformation'], '[[Mass transfer]] can limit [[Enzyme transformation]] \\n'], [['Microorganisms', 'Catabolism', 'Extremely_low_energy'], '[[Microorganisms]] down regulate [[Catabolism]] when they face [[Extremely low energy]] available \\n'], [['Catabolite_repression', 'Extremely_low_energy_Environment'], '[[Catabolite repression]] could happen in  [[Extremely low energy Environment]] \\n'], [['Mass_transfer', 'Catabolite_repression', 'Biotransformation', 'Xenobiotics'], 'Either [[Mass transfer]] or [[Catabolite repression]] limit [[Biotransformation]] of [[Xenobiotics]] \\n'], [['Arthrobacter_aurescens_TC1', 'Atrazine', 'Hydrolytic_pathway'], '[[Arthrobacter aurescens TC1]] metabolizes [[Atrazine]] through a [[Hydrolytic pathway]]\\n'], [['Arthrobacter_aurescens_TC1', 'Atrazine', 'Carbon_source', 'Nitrogen_source'], '[[Arthrobacter aurescens TC1]] can use [[Atrazine]] as [[Carbon source]] and as [[Nitrogen source]]\\n'], [['Arthrobacter_aurescens_TC', 's-triazine'], '[[Arthrobacter aurescens TC]] can degrade other [[s-triazine]]\\n'], [['Mass_transfer', 'Cell_membrane', 'Metabolism'], '[[Mass transfer]] through [[Cell membrane]] limits [[Metabolism]] under 30 ug/L\\n'], [['Low_concentration', 'Chemostat', 'Egli'], '[[Low concentration]] was reached in [[Chemostat]] by [[Egli]]\\n'], [['Bacteria', 'Ground_water', 'Pollutant'], '[[Bacteria]] found in [[Ground water]] with [[Pollutant]] concentrations 30 times lower \\n'], [['Microorganisms', 'Energy', 'Low_energy', 'Environment'], '[[Microorganisms]] can harvest [[Energy]] from [[Low energy]] [[Environment]] \\n'], [['Maintenance_energy', 'Degradation', 'Low_energy'], '[[Maintenance energy]] defines [[Degradation]] when [[Low energy]] is available \\n'], [['Maintenance_energy', 'Proton_motive_force', 'Osmoregulation', 'Protein_repair', 'DNA_rapair'], '[[Maintenance energy]] supports sustaining [[Proton motive force]], [[Osmoregulation]], [[Protein repair]], [[DNA rapair]]\\n'], [['Chemostat', 'Microbial_growth', 'Steady-state', 'Maintenance_energy'], '[[Chemostat]] fixes [[Microbial growth]] rate in [[Steady-state]] to study [[Maintenance energy]] \\n'], [['Chemostat', 'Near-zero_growth'], '[[Chemostat]] fails to mimic [[Near-zero growth]]\\n'], [['Biomass', 'Chemostat'], '[[Biomass]] is wash out in [[Chemostat]] \\n'], [['Retentostat', 'Near-zero_growth'], '[[Retentostat]] achieves [[Near-zero growth]] \\n'], [['Retentostat', 'Cells'], '[[Retentostat]] retains [[Cells]]\\n'], [['Retentostat', 'Secondary_metabolite'], '[[Retentostat]] for [[Secondary metabolite]] production\\n'], [['Retentostat', 'Environmental_research'], '[[Retentostat]] studies are limited in [[Environmental research]] \\n'], [['Atrazine', 'Chemostat', 'Retentostat'], '[[Atrazine]] degradation in [[Chemostat]] and [[Retentostat]] \\n'], [['Mass_transfer', 'Morphology', 'Microorganisms'], '[[Mass transfer]] defines [[Morphology]] changes in [[Microorganisms]] \\n']]\n"
     ]
    }
   ],
   "source": [
    "PoolofKnowledge()"
   ]
  }
 ],
 "metadata": {
  "kernelspec": {
   "display_name": "Python 3 (ipykernel)",
   "language": "python",
   "name": "python3"
  },
  "language_info": {
   "codemirror_mode": {
    "name": "ipython",
    "version": 3
   },
   "file_extension": ".py",
   "mimetype": "text/x-python",
   "name": "python",
   "nbconvert_exporter": "python",
   "pygments_lexer": "ipython3",
   "version": "3.7.13"
  }
 },
 "nbformat": 4,
 "nbformat_minor": 5
}
