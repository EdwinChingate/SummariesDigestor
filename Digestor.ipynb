{
 "cells": [
  {
   "cell_type": "code",
   "execution_count": 1,
   "id": "f48d1af6",
   "metadata": {
    "ExecuteTime": {
     "end_time": "2024-04-12T16:56:09.810266Z",
     "start_time": "2024-04-12T16:56:09.590392Z"
    }
   },
   "outputs": [],
   "source": [
    "import sys\n",
    "import os\n",
    "home=os.getcwd()\n",
    "sys.path.append(home+'/Functions')\n",
    "from PoolofKnowledge import *\n",
    "from SummariesDigestor import *\n",
    "from ShowDF import *\n",
    "from PoolofKnowledge_to_VOSviewerNet import *\n",
    "from PoolofKnowledge_to_CytoscapeNet import *\n",
    "from ProtoSentencesNetwork import *\n",
    "from ZeroDraftGenerator import *"
   ]
  },
  {
   "cell_type": "markdown",
   "id": "2d6aa6ec",
   "metadata": {},
   "source": [
    "# Extract concepts from the summary and contrast with the ones in the pool of knowledge"
   ]
  },
  {
   "cell_type": "code",
   "execution_count": 11,
   "id": "7dad6666",
   "metadata": {
    "ExecuteTime": {
     "end_time": "2024-04-11T02:09:33.618953Z",
     "start_time": "2024-04-11T02:09:33.178792Z"
    }
   },
   "outputs": [],
   "source": [
    "SummariesDigestor()"
   ]
  },
  {
   "cell_type": "markdown",
   "id": "1c27d372",
   "metadata": {
    "ExecuteTime": {
     "end_time": "2024-04-11T16:23:01.218331Z",
     "start_time": "2024-04-11T16:23:01.215471Z"
    }
   },
   "source": [
    "## Check and update manually the new concepts in the EvaluateConcepts.xlsx file"
   ]
  },
  {
   "cell_type": "markdown",
   "id": "6004dac8",
   "metadata": {},
   "source": [
    "# Transfer knowledge from the summary to the pool of knowledge"
   ]
  },
  {
   "cell_type": "code",
   "execution_count": 12,
   "id": "973a1e76",
   "metadata": {
    "ExecuteTime": {
     "end_time": "2024-04-11T02:15:57.213735Z",
     "start_time": "2024-04-11T02:15:56.478751Z"
    },
    "scrolled": false
   },
   "outputs": [],
   "source": [
    "PoolofKnowledge()"
   ]
  },
  {
   "cell_type": "markdown",
   "id": "48ee64e8",
   "metadata": {},
   "source": [
    "# Create a network of knowledge in cytoscape format"
   ]
  },
  {
   "cell_type": "code",
   "execution_count": 4,
   "id": "fca26db2",
   "metadata": {
    "ExecuteTime": {
     "end_time": "2024-04-10T22:36:04.736296Z",
     "start_time": "2024-04-10T22:36:04.624531Z"
    }
   },
   "outputs": [],
   "source": [
    "PoolofKnowledge_to_CytoscapeNet()"
   ]
  },
  {
   "cell_type": "markdown",
   "id": "366415db",
   "metadata": {},
   "source": [
    "# Create a network of knowledge in VOSviewer format"
   ]
  },
  {
   "cell_type": "code",
   "execution_count": 13,
   "id": "62d21a77",
   "metadata": {
    "ExecuteTime": {
     "end_time": "2024-04-11T02:19:22.449090Z",
     "start_time": "2024-04-11T02:19:22.369700Z"
    }
   },
   "outputs": [],
   "source": [
    "PoolofKnowledge_to_VOSviewerNet(mapName='Map',netName='Net')"
   ]
  },
  {
   "cell_type": "markdown",
   "id": "5a8230e9",
   "metadata": {},
   "source": [
    "## Filter network in cytoscape and VOSviewer"
   ]
  },
  {
   "cell_type": "markdown",
   "id": "c8e29c97",
   "metadata": {
    "ExecuteTime": {
     "end_time": "2024-04-11T16:25:56.562532Z",
     "start_time": "2024-04-11T16:25:56.559588Z"
    }
   },
   "source": [
    "# Create a network of sentences with the network of concepts"
   ]
  },
  {
   "cell_type": "code",
   "execution_count": 2,
   "id": "7e00d650",
   "metadata": {
    "ExecuteTime": {
     "end_time": "2024-04-11T20:21:25.308379Z",
     "start_time": "2024-04-11T20:21:25.260712Z"
    }
   },
   "outputs": [],
   "source": [
    "ProtoSentencesNetwork(mapName='ProtoSentenceMap',netName='ProtoSentenceNet')"
   ]
  },
  {
   "cell_type": "markdown",
   "id": "b3a1507c",
   "metadata": {},
   "source": [
    "# In cytoscape, filter your ProtoSentences and draft the structure of your text by sorting them out vertically. Then export your network as a webpage, and take the file 'networks.js'"
   ]
  },
  {
   "cell_type": "code",
   "execution_count": 2,
   "id": "828844a6",
   "metadata": {
    "ExecuteTime": {
     "end_time": "2024-04-12T16:56:15.809563Z",
     "start_time": "2024-04-12T16:56:15.798978Z"
    }
   },
   "outputs": [],
   "source": [
    "ZeroDraft=ZeroDraftGenerator()"
   ]
  },
  {
   "cell_type": "code",
   "execution_count": 3,
   "id": "fa1b748d",
   "metadata": {
    "ExecuteTime": {
     "end_time": "2024-04-12T16:56:17.038473Z",
     "start_time": "2024-04-12T16:56:17.027734Z"
    }
   },
   "outputs": [
    {
     "data": {
      "text/html": [
       "<table>\n",
       "<thead>\n",
       "<tr><th style=\"text-align: right;\">  </th><th>Concept1                 </th><th>Concept2                 </th><th style=\"text-align: right;\">  Position</th></tr>\n",
       "</thead>\n",
       "<tbody>\n",
       "<tr><td style=\"text-align: right;\">12</td><td>Microorganism            </td><td>Complex                  </td><td style=\"text-align: right;\"> -7852.98 </td></tr>\n",
       "<tr><td style=\"text-align: right;\">16</td><td>Model                    </td><td>Microorganism            </td><td style=\"text-align: right;\"> -7614.34 </td></tr>\n",
       "<tr><td style=\"text-align: right;\">60</td><td>Microorganism            </td><td>Fast-growing             </td><td style=\"text-align: right;\"> -7370.94 </td></tr>\n",
       "<tr><td style=\"text-align: right;\">27</td><td>Microorganism            </td><td>Physiology               </td><td style=\"text-align: right;\"> -7113.62 </td></tr>\n",
       "<tr><td style=\"text-align: right;\">48</td><td>Microorganism            </td><td>Metabolism               </td><td style=\"text-align: right;\"> -6832.2  </td></tr>\n",
       "<tr><td style=\"text-align: right;\">24</td><td>Nutrient                 </td><td>Microorganism            </td><td style=\"text-align: right;\"> -6518.62 </td></tr>\n",
       "<tr><td style=\"text-align: right;\"> 2</td><td>Microorganism            </td><td>Maintenance_energy       </td><td style=\"text-align: right;\"> -6246.96 </td></tr>\n",
       "<tr><td style=\"text-align: right;\"> 1</td><td>Microorganism            </td><td>Energy                   </td><td style=\"text-align: right;\"> -5962.59 </td></tr>\n",
       "<tr><td style=\"text-align: right;\"> 4</td><td>Microorganism            </td><td>Natural_environment      </td><td style=\"text-align: right;\"> -5697.52 </td></tr>\n",
       "<tr><td style=\"text-align: right;\"> 5</td><td>Microorganism            </td><td>Slow-growing             </td><td style=\"text-align: right;\"> -5433.32 </td></tr>\n",
       "<tr><td style=\"text-align: right;\">14</td><td>Microorganism            </td><td>Oligotroph               </td><td style=\"text-align: right;\"> -5113.46 </td></tr>\n",
       "<tr><td style=\"text-align: right;\">31</td><td>Cultivating              </td><td>Microorganism            </td><td style=\"text-align: right;\"> -2952.72 </td></tr>\n",
       "<tr><td style=\"text-align: right;\"> 6</td><td>Microorganism            </td><td>Omic                     </td><td style=\"text-align: right;\"> -2553.11 </td></tr>\n",
       "<tr><td style=\"text-align: right;\">28</td><td>Cultivating              </td><td>Complex                  </td><td style=\"text-align: right;\"> -2228.46 </td></tr>\n",
       "<tr><td style=\"text-align: right;\">36</td><td>Cultivating              </td><td>Pure_culture             </td><td style=\"text-align: right;\"> -1983.23 </td></tr>\n",
       "<tr><td style=\"text-align: right;\">54</td><td>Bioreactor               </td><td>Microorganism            </td><td style=\"text-align: right;\"> -1724.71 </td></tr>\n",
       "<tr><td style=\"text-align: right;\">29</td><td>Cultivating              </td><td>Microbial_culture_media  </td><td style=\"text-align: right;\"> -1447.57 </td></tr>\n",
       "<tr><td style=\"text-align: right;\">35</td><td>Cultivating              </td><td>Omic                     </td><td style=\"text-align: right;\"> -1215.93 </td></tr>\n",
       "<tr><td style=\"text-align: right;\">30</td><td>Cultivating              </td><td>Microbial_diversity      </td><td style=\"text-align: right;\">  -994.504</td></tr>\n",
       "<tr><td style=\"text-align: right;\">33</td><td>Cultivating              </td><td>Natural_environment      </td><td style=\"text-align: right;\">  -808.176</td></tr>\n",
       "<tr><td style=\"text-align: right;\">34</td><td>Cultivating              </td><td>Oligotroph               </td><td style=\"text-align: right;\">  -605.673</td></tr>\n",
       "<tr><td style=\"text-align: right;\">37</td><td>Cultivating              </td><td>Slow-growing             </td><td style=\"text-align: right;\">  -419.132</td></tr>\n",
       "<tr><td style=\"text-align: right;\">53</td><td>Bioreactor               </td><td>Chemostat                </td><td style=\"text-align: right;\">  3260.88 </td></tr>\n",
       "<tr><td style=\"text-align: right;\">21</td><td>Microorganism            </td><td>Chemostat                </td><td style=\"text-align: right;\">  3558.51 </td></tr>\n",
       "<tr><td style=\"text-align: right;\">51</td><td>Biomass                  </td><td>Chemostat                </td><td style=\"text-align: right;\">  3853.13 </td></tr>\n",
       "<tr><td style=\"text-align: right;\">17</td><td>Chemostat                </td><td>Continuous_reactor       </td><td style=\"text-align: right;\">  4090.23 </td></tr>\n",
       "<tr><td style=\"text-align: right;\">18</td><td>Chemostat                </td><td>Fermentation             </td><td style=\"text-align: right;\">  4349.84 </td></tr>\n",
       "<tr><td style=\"text-align: right;\">23</td><td>Nutrient                 </td><td>Chemostat                </td><td style=\"text-align: right;\">  4569.77 </td></tr>\n",
       "<tr><td style=\"text-align: right;\">55</td><td>Chemostat                </td><td>Dynamic                  </td><td style=\"text-align: right;\">  4804.35 </td></tr>\n",
       "<tr><td style=\"text-align: right;\">59</td><td>Chemostat                </td><td>Growth_rate              </td><td style=\"text-align: right;\">  5064.5  </td></tr>\n",
       "<tr><td style=\"text-align: right;\">38</td><td>Chemostat                </td><td>Dilution_rate            </td><td style=\"text-align: right;\">  5307.1  </td></tr>\n",
       "<tr><td style=\"text-align: right;\">45</td><td>Chemostat                </td><td>Metabolism               </td><td style=\"text-align: right;\">  5534.59 </td></tr>\n",
       "<tr><td style=\"text-align: right;\">19</td><td>Chemostat                </td><td>LAMAC                    </td><td style=\"text-align: right;\">  5760.1  </td></tr>\n",
       "<tr><td style=\"text-align: right;\">13</td><td>Microbial_community      </td><td>Continuous_reactor       </td><td style=\"text-align: right;\"> 10887.6  </td></tr>\n",
       "<tr><td style=\"text-align: right;\"> 9</td><td>Pure_culture             </td><td>Microbial_community      </td><td style=\"text-align: right;\"> 11129.8  </td></tr>\n",
       "<tr><td style=\"text-align: right;\">11</td><td>Microbial_community      </td><td>Complex                  </td><td style=\"text-align: right;\"> 11359.3  </td></tr>\n",
       "<tr><td style=\"text-align: right;\">40</td><td>Growing                  </td><td>Microbial_community      </td><td style=\"text-align: right;\"> 11581.1  </td></tr>\n",
       "<tr><td style=\"text-align: right;\"> 7</td><td>Species                  </td><td>Microbial_community      </td><td style=\"text-align: right;\"> 11809.3  </td></tr>\n",
       "<tr><td style=\"text-align: right;\"> 3</td><td>Microorganism            </td><td>Microbial_community      </td><td style=\"text-align: right;\"> 12086.7  </td></tr>\n",
       "<tr><td style=\"text-align: right;\">47</td><td>Microbial_community      </td><td>Metabolism               </td><td style=\"text-align: right;\"> 12361.4  </td></tr>\n",
       "<tr><td style=\"text-align: right;\">25</td><td>Microbial_community      </td><td>Competitive_interaction  </td><td style=\"text-align: right;\"> 12600.5  </td></tr>\n",
       "<tr><td style=\"text-align: right;\">57</td><td>Microbial_community      </td><td>Dynamic                  </td><td style=\"text-align: right;\"> 12882.6  </td></tr>\n",
       "<tr><td style=\"text-align: right;\">44</td><td>Microbial_community      </td><td>Inocula                  </td><td style=\"text-align: right;\"> 13128.7  </td></tr>\n",
       "<tr><td style=\"text-align: right;\">22</td><td>Retentostat              </td><td>Chemostat                </td><td style=\"text-align: right;\"> 17534.3  </td></tr>\n",
       "<tr><td style=\"text-align: right;\">42</td><td>Chemostat                </td><td>Membrane                 </td><td style=\"text-align: right;\"> 17752.1  </td></tr>\n",
       "<tr><td style=\"text-align: right;\">20</td><td>Chemostat                </td><td>Maintenance_energy       </td><td style=\"text-align: right;\"> 18018.5  </td></tr>\n",
       "<tr><td style=\"text-align: right;\">50</td><td>Retentostat              </td><td>Cell                     </td><td style=\"text-align: right;\"> 18214.6  </td></tr>\n",
       "<tr><td style=\"text-align: right;\">49</td><td>Retentostat              </td><td>Metabolism               </td><td style=\"text-align: right;\"> 18356.1  </td></tr>\n",
       "<tr><td style=\"text-align: right;\">58</td><td>Growing                  </td><td>Oligotrophic_environment </td><td style=\"text-align: right;\"> 18554.9  </td></tr>\n",
       "<tr><td style=\"text-align: right;\">41</td><td>Growing                  </td><td>Nutrient                 </td><td style=\"text-align: right;\"> 18767.2  </td></tr>\n",
       "<tr><td style=\"text-align: right;\">52</td><td>Biomass                  </td><td>Growing                  </td><td style=\"text-align: right;\"> 18995.4  </td></tr>\n",
       "<tr><td style=\"text-align: right;\">39</td><td>Growing                  </td><td>Dilution_rate            </td><td style=\"text-align: right;\"> 19243.4  </td></tr>\n",
       "<tr><td style=\"text-align: right;\">46</td><td>Growing                  </td><td>Metabolism               </td><td style=\"text-align: right;\"> 19513.7  </td></tr>\n",
       "<tr><td style=\"text-align: right;\">15</td><td>Microbial_diversity      </td><td>Model_microbial_community</td><td style=\"text-align: right;\"> 21953.6  </td></tr>\n",
       "<tr><td style=\"text-align: right;\">32</td><td>Cultivating              </td><td>Model_microbial_community</td><td style=\"text-align: right;\"> 22197.6  </td></tr>\n",
       "<tr><td style=\"text-align: right;\">26</td><td>Natural_ecosystems       </td><td>Model_microbial_community</td><td style=\"text-align: right;\"> 22452.7  </td></tr>\n",
       "<tr><td style=\"text-align: right;\"> 0</td><td>Model_microbial_community</td><td>Research                 </td><td style=\"text-align: right;\"> 22683.1  </td></tr>\n",
       "<tr><td style=\"text-align: right;\"> 8</td><td>Species                  </td><td>Model_microbial_community</td><td style=\"text-align: right;\"> 22873.1  </td></tr>\n",
       "<tr><td style=\"text-align: right;\">10</td><td>Pure_culture             </td><td>Model_microbial_community</td><td style=\"text-align: right;\"> 23108.7  </td></tr>\n",
       "<tr><td style=\"text-align: right;\">56</td><td>Dynamic                  </td><td>Model_microbial_community</td><td style=\"text-align: right;\"> 23323.7  </td></tr>\n",
       "<tr><td style=\"text-align: right;\">43</td><td>Model_microbial_community</td><td>Interaction              </td><td style=\"text-align: right;\"> 23595.5  </td></tr>\n",
       "</tbody>\n",
       "</table>"
      ],
      "text/plain": [
       "<IPython.core.display.HTML object>"
      ]
     },
     "metadata": {},
     "output_type": "display_data"
    }
   ],
   "source": [
    "ShowDF(ZeroDraft)"
   ]
  }
 ],
 "metadata": {
  "kernelspec": {
   "display_name": "Python 3 (ipykernel)",
   "language": "python",
   "name": "python3"
  },
  "language_info": {
   "codemirror_mode": {
    "name": "ipython",
    "version": 3
   },
   "file_extension": ".py",
   "mimetype": "text/x-python",
   "name": "python",
   "nbconvert_exporter": "python",
   "pygments_lexer": "ipython3",
   "version": "3.7.13"
  }
 },
 "nbformat": 4,
 "nbformat_minor": 5
}
