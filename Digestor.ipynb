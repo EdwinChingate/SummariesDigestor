{
 "cells": [
  {
   "cell_type": "code",
   "execution_count": 1,
   "id": "f48d1af6",
   "metadata": {
    "ExecuteTime": {
     "end_time": "2024-04-11T17:57:16.610382Z",
     "start_time": "2024-04-11T17:57:16.318288Z"
    }
   },
   "outputs": [],
   "source": [
    "import sys\n",
    "import os\n",
    "home=os.getcwd()\n",
    "sys.path.append(home+'/Functions')\n",
    "from PoolofKnowledge import *\n",
    "from SummariesDigestor import *\n",
    "from ShowDF import *\n",
    "from PoolofKnowledge_to_VOSviewerNet import *\n",
    "from PoolofKnowledge_to_CytoscapeNet import *\n",
    "from ProtoSentencesNetwork import *"
   ]
  },
  {
   "cell_type": "markdown",
   "id": "2d6aa6ec",
   "metadata": {},
   "source": [
    "# Extract concepts from the summary and contrast with the ones in the pool of knowledge"
   ]
  },
  {
   "cell_type": "code",
   "execution_count": 11,
   "id": "7dad6666",
   "metadata": {
    "ExecuteTime": {
     "end_time": "2024-04-11T02:09:33.618953Z",
     "start_time": "2024-04-11T02:09:33.178792Z"
    }
   },
   "outputs": [],
   "source": [
    "SummariesDigestor()"
   ]
  },
  {
   "cell_type": "markdown",
   "id": "1c27d372",
   "metadata": {
    "ExecuteTime": {
     "end_time": "2024-04-11T16:23:01.218331Z",
     "start_time": "2024-04-11T16:23:01.215471Z"
    }
   },
   "source": [
    "## Check and update manually the new concepts in the EvaluateConcepts.xlsx file"
   ]
  },
  {
   "cell_type": "markdown",
   "id": "6004dac8",
   "metadata": {},
   "source": [
    "# Transfer knowledge from the summary to the pool of knowledge"
   ]
  },
  {
   "cell_type": "code",
   "execution_count": 12,
   "id": "973a1e76",
   "metadata": {
    "ExecuteTime": {
     "end_time": "2024-04-11T02:15:57.213735Z",
     "start_time": "2024-04-11T02:15:56.478751Z"
    },
    "scrolled": false
   },
   "outputs": [],
   "source": [
    "PoolofKnowledge()"
   ]
  },
  {
   "cell_type": "markdown",
   "id": "48ee64e8",
   "metadata": {},
   "source": [
    "# Create a network of knowledge in cytoscape format"
   ]
  },
  {
   "cell_type": "code",
   "execution_count": 4,
   "id": "fca26db2",
   "metadata": {
    "ExecuteTime": {
     "end_time": "2024-04-10T22:36:04.736296Z",
     "start_time": "2024-04-10T22:36:04.624531Z"
    }
   },
   "outputs": [],
   "source": [
    "PoolofKnowledge_to_CytoscapeNet()"
   ]
  },
  {
   "cell_type": "markdown",
   "id": "366415db",
   "metadata": {},
   "source": [
    "# Create a network of knowledge in VOSviewer format"
   ]
  },
  {
   "cell_type": "code",
   "execution_count": 13,
   "id": "62d21a77",
   "metadata": {
    "ExecuteTime": {
     "end_time": "2024-04-11T02:19:22.449090Z",
     "start_time": "2024-04-11T02:19:22.369700Z"
    }
   },
   "outputs": [],
   "source": [
    "PoolofKnowledge_to_VOSviewerNet(mapName='Map',netName='Net')"
   ]
  },
  {
   "cell_type": "markdown",
   "id": "5a8230e9",
   "metadata": {},
   "source": [
    "## Filter network in cytoscape and VOSviewer"
   ]
  },
  {
   "cell_type": "markdown",
   "id": "99e4a6f9",
   "metadata": {
    "ExecuteTime": {
     "end_time": "2024-04-11T16:25:56.562532Z",
     "start_time": "2024-04-11T16:25:56.559588Z"
    }
   },
   "source": [
    "# Create a network of sentences with the network of concepts"
   ]
  },
  {
   "cell_type": "code",
   "execution_count": 2,
   "id": "7e00d650",
   "metadata": {
    "ExecuteTime": {
     "end_time": "2024-04-11T17:57:21.086375Z",
     "start_time": "2024-04-11T17:57:21.063194Z"
    }
   },
   "outputs": [],
   "source": [
    "ProtoSentencesNetwork(mapName='ProtoSentenceMap',netName='ProtoSentenceNet')"
   ]
  }
 ],
 "metadata": {
  "kernelspec": {
   "display_name": "Python 3 (ipykernel)",
   "language": "python",
   "name": "python3"
  },
  "language_info": {
   "codemirror_mode": {
    "name": "ipython",
    "version": 3
   },
   "file_extension": ".py",
   "mimetype": "text/x-python",
   "name": "python",
   "nbconvert_exporter": "python",
   "pygments_lexer": "ipython3",
   "version": "3.7.13"
  }
 },
 "nbformat": 4,
 "nbformat_minor": 5
}
