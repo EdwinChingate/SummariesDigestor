{
 "cells": [
  {
   "cell_type": "code",
   "execution_count": 2,
   "id": "f48d1af6",
   "metadata": {
    "ExecuteTime": {
     "end_time": "2025-04-30T12:08:38.854702Z",
     "start_time": "2025-04-30T12:08:38.851143Z"
    }
   },
   "outputs": [],
   "source": [
    "import sys\n",
    "import os\n",
    "home=os.getcwd()\n",
    "sys.path.append(home+'/Functions')\n",
    "from SummaryNetwork import *\n",
    "from PoolofKnowledge import *\n",
    "from SummariesDigestor import *\n",
    "from ShowDF import *\n",
    "from PoolofKnowledge_to_VOSviewerNet import *\n",
    "from PoolofKnowledge_to_CytoscapeNet import *\n",
    "from ProtoSentencesNetwork import *\n",
    "from WriteDraft import *"
   ]
  },
  {
   "cell_type": "markdown",
   "id": "1b4f89e6",
   "metadata": {},
   "source": [
    "# Explore the concepts in your summary, as a network"
   ]
  },
  {
   "cell_type": "code",
   "execution_count": 3,
   "id": "9c7cdfd0",
   "metadata": {
    "ExecuteTime": {
     "end_time": "2024-10-14T01:44:58.684877Z",
     "start_time": "2024-10-14T01:44:58.031600Z"
    }
   },
   "outputs": [],
   "source": [
    "SummaryNetwork(Home=False)"
   ]
  },
  {
   "cell_type": "markdown",
   "id": "2d6aa6ec",
   "metadata": {},
   "source": [
    "# Extract concepts from the summary and contrast with the ones in the pool of knowledge"
   ]
  },
  {
   "cell_type": "code",
   "execution_count": 4,
   "id": "7dad6666",
   "metadata": {
    "ExecuteTime": {
     "end_time": "2024-10-13T03:05:09.624838Z",
     "start_time": "2024-10-13T03:05:07.638651Z"
    }
   },
   "outputs": [],
   "source": [
    "SummariesDigestor()"
   ]
  },
  {
   "cell_type": "markdown",
   "id": "1c27d372",
   "metadata": {
    "ExecuteTime": {
     "end_time": "2024-04-11T16:23:01.218331Z",
     "start_time": "2024-04-11T16:23:01.215471Z"
    }
   },
   "source": [
    "## Check and update manually the new concepts in the EvaluateConcepts.xlsx file"
   ]
  },
  {
   "cell_type": "markdown",
   "id": "6004dac8",
   "metadata": {},
   "source": [
    "# Transfer knowledge from the summary to the pool of knowledge"
   ]
  },
  {
   "cell_type": "code",
   "execution_count": 8,
   "id": "973a1e76",
   "metadata": {
    "ExecuteTime": {
     "end_time": "2024-10-13T03:28:16.220510Z",
     "start_time": "2024-10-13T03:28:12.004520Z"
    },
    "scrolled": false
   },
   "outputs": [],
   "source": [
    "PoolofKnowledge()"
   ]
  },
  {
   "cell_type": "markdown",
   "id": "48ee64e8",
   "metadata": {},
   "source": [
    "# Create a network of knowledge in cytoscape format"
   ]
  },
  {
   "cell_type": "code",
   "execution_count": 4,
   "id": "fca26db2",
   "metadata": {
    "ExecuteTime": {
     "end_time": "2024-04-10T22:36:04.736296Z",
     "start_time": "2024-04-10T22:36:04.624531Z"
    }
   },
   "outputs": [],
   "source": [
    "PoolofKnowledge_to_CytoscapeNet()"
   ]
  },
  {
   "cell_type": "markdown",
   "id": "366415db",
   "metadata": {},
   "source": [
    "# Create a network of knowledge in VOSviewer format"
   ]
  },
  {
   "cell_type": "code",
   "execution_count": 13,
   "id": "62d21a77",
   "metadata": {
    "ExecuteTime": {
     "end_time": "2024-04-11T02:19:22.449090Z",
     "start_time": "2024-04-11T02:19:22.369700Z"
    }
   },
   "outputs": [],
   "source": [
    "PoolofKnowledge_to_VOSviewerNet(mapName='Map',netName='Net')"
   ]
  },
  {
   "cell_type": "markdown",
   "id": "5a8230e9",
   "metadata": {},
   "source": [
    "## Filter network in cytoscape and VOSviewer"
   ]
  },
  {
   "cell_type": "markdown",
   "id": "c8e29c97",
   "metadata": {
    "ExecuteTime": {
     "end_time": "2024-04-11T16:25:56.562532Z",
     "start_time": "2024-04-11T16:25:56.559588Z"
    }
   },
   "source": [
    "# Create a network of sentences with the network of concepts"
   ]
  },
  {
   "cell_type": "code",
   "execution_count": 2,
   "id": "7e00d650",
   "metadata": {
    "ExecuteTime": {
     "end_time": "2024-04-11T20:21:25.308379Z",
     "start_time": "2024-04-11T20:21:25.260712Z"
    }
   },
   "outputs": [],
   "source": [
    "ProtoSentencesNetwork(mapName='ProtoSentenceMap',netName='ProtoSentenceNet')"
   ]
  },
  {
   "cell_type": "markdown",
   "id": "b3a1507c",
   "metadata": {},
   "source": [
    "# In cytoscape, filter your ProtoSentences and draft the structure of your text by sorting them out vertically. Then export your network as a webpage, and take the file 'networks.js'"
   ]
  },
  {
   "cell_type": "code",
   "execution_count": 2,
   "id": "7b267e60",
   "metadata": {
    "ExecuteTime": {
     "end_time": "2024-04-13T17:51:07.746611Z",
     "start_time": "2024-04-13T17:51:07.707567Z"
    }
   },
   "outputs": [],
   "source": [
    "DraftName='IntroductionRetentostat0'\n",
    "WriteDraft(DraftName=DraftName,SpaceParagraph=10,minSpace=2)"
   ]
  },
  {
   "cell_type": "code",
   "execution_count": 31,
   "id": "0bf872df",
   "metadata": {
    "ExecuteTime": {
     "end_time": "2025-04-30T12:21:21.399557Z",
     "start_time": "2025-04-30T12:21:21.394027Z"
    }
   },
   "outputs": [],
   "source": [
    "import pandas as pd\n",
    "import numpy as np\n",
    "BPDF=pd.read_csv('BulletPoints.csv')"
   ]
  },
  {
   "cell_type": "code",
   "execution_count": 17,
   "id": "18c3ac29",
   "metadata": {
    "ExecuteTime": {
     "end_time": "2025-04-30T12:15:36.368528Z",
     "start_time": "2025-04-30T12:15:36.354169Z"
    }
   },
   "outputs": [
    {
     "data": {
      "text/html": [
       "<table>\n",
       "<thead>\n",
       "<tr><th style=\"text-align: right;\">   </th><th>BP;sentence                                                                                                              </th></tr>\n",
       "</thead>\n",
       "<tbody>\n",
       "<tr><td style=\"text-align: right;\">  0</td><td>BP;Managed Aquifer Recharge (MAR) systems treat water and store it.                                                      </td></tr>\n",
       "<tr><td style=\"text-align: right;\">  1</td><td>BP;MAR systems like RBF and SAT are used.                                                                                </td></tr>\n",
       "<tr><td style=\"text-align: right;\">  2</td><td>BP;MAR offers low energy demand and no waste streams.                                                                    </td></tr>\n",
       "<tr><td style=\"text-align: right;\">  3</td><td>BP;MAR relies on adsorption and biotransformation.                                                                       </td></tr>\n",
       "<tr><td style=\"text-align: right;\">  4</td><td>BP;Conventional MAR systems often struggle with persistent TOrCs.                                                        </td></tr>\n",
       "<tr><td style=\"text-align: right;\">  5</td><td>BP;Sequential MAR technology (SMART) was developed to improve TOrC removal.                                              </td></tr>\n",
       "<tr><td style=\"text-align: right;\">  6</td><td>BP;SMART uses sequential steps with intermediate aeration.                                                               </td></tr>\n",
       "<tr><td style=\"text-align: right;\">  7</td><td>BP;SMART aims to establish oxic and carbon-limited conditions.                                                           </td></tr>\n",
       "<tr><td style=\"text-align: right;\">  8</td><td>BP;SMART enhances biotransformation of moderately degradable TOrCs.                                                      </td></tr>\n",
       "<tr><td style=\"text-align: right;\">  9</td><td>BP;Advanced oxidation processes (AOPs) can degrade TOrCs.                                                                </td></tr>\n",
       "<tr><td style=\"text-align: right;\"> 10</td><td>BP;AOPs include ozonation; UV; and Fenton processes.                                                                     </td></tr>\n",
       "<tr><td style=\"text-align: right;\"> 11</td><td>BP;Ozonation is a well-established process for many TOrCs.                                                               </td></tr>\n",
       "<tr><td style=\"text-align: right;\"> 12</td><td>BP;AOPs may produce intermediate transformation products.                                                                </td></tr>\n",
       "<tr><td style=\"text-align: right;\"> 13</td><td>BP;Activated carbon adsorption effectively removes many chemicals.                                                       </td></tr>\n",
       "<tr><td style=\"text-align: right;\"> 14</td><td>BP;Conventional wastewater treatment plants (WWTPs) have limited TOrC removal.                                           </td></tr>\n",
       "<tr><td style=\"text-align: right;\"> 15</td><td>BP;Upgrading WWTPs with AOPs or carbon adds cost and energy.                                                             </td></tr>\n",
       "<tr><td style=\"text-align: right;\"> 16</td><td>BP;Biofiltration systems are also used for TOrC treatment.                                                               </td></tr>\n",
       "<tr><td style=\"text-align: right;\"> 17</td><td>BP;Hybrid systems combine technologies; like ozone-MAR.                                                                  </td></tr>\n",
       "<tr><td style=\"text-align: right;\"> 18</td><td>BP;Research explores optimizing conditions for biotransformation.                                                        </td></tr>\n",
       "<tr><td style=\"text-align: right;\"> 19</td><td>BP;Understanding biotransformation pathways is key to optimizing removal.                                                </td></tr>\n",
       "<tr><td style=\"text-align: right;\"> 20</td><td>BP;Redox conditions significantly influence TOrC removal.                                                                </td></tr>\n",
       "<tr><td style=\"text-align: right;\"> 21</td><td>BP;The redox environment is identified as a primary driver for TOrC fate.                                                </td></tr>\n",
       "<tr><td style=\"text-align: right;\"> 22</td><td>BP;Most TOrCs are more efficiently transformed under oxic conditions.                                                    </td></tr>\n",
       "<tr><td style=\"text-align: right;\"> 23</td><td>BP;Oxic conditions are favored for enhanced TOrC removal efficiency.                                                     </td></tr>\n",
       "<tr><td style=\"text-align: right;\"> 24</td><td>BP;Oxic conditions can facilitate more comprehensive biotransformation.                                                  </td></tr>\n",
       "<tr><td style=\"text-align: right;\"> 25</td><td>BP;Anoxic or anaerobic conditions can biotransform some TOrCs.                                                           </td></tr>\n",
       "<tr><td style=\"text-align: right;\"> 26</td><td>BP;This includes compounds like iodinated contrast media.                                                                </td></tr>\n",
       "<tr><td style=\"text-align: right;\"> 27</td><td>BP;Sulfamethoxazole can be removed under anoxic conditions.                                                              </td></tr>\n",
       "<tr><td style=\"text-align: right;\"> 28</td><td>BP;However; sulfamethoxazole removal is more effective under oxic.                                                       </td></tr>\n",
       "<tr><td style=\"text-align: right;\"> 29</td><td>BP;Anoxic environments often show lower TOrC removal rates than aerobic.                                                 </td></tr>\n",
       "<tr><td style=\"text-align: right;\"> 30</td><td>BP;This difference relates to the higher oxidation potential of oxygen.                                                  </td></tr>\n",
       "<tr><td style=\"text-align: right;\"> 31</td><td>BP;Some TOrCs are specifically classified as redox-sensitive compounds.                                                  </td></tr>\n",
       "<tr><td style=\"text-align: right;\"> 32</td><td>BP;Redox-sensitive compounds perform poorly under anoxic conditions.                                                     </td></tr>\n",
       "<tr><td style=\"text-align: right;\"> 33</td><td>BP;Sequential MAR technology (SMART) aims for predominant oxic conditions.                                               </td></tr>\n",
       "<tr><td style=\"text-align: right;\"> 34</td><td>BP;Intermediate aeration or oxidation helps maintain oxic conditions.                                                    </td></tr>\n",
       "<tr><td style=\"text-align: right;\"> 35</td><td>BP;SMART enhances TOrC biotransformation compared to conventional MAR.                                                   </td></tr>\n",
       "<tr><td style=\"text-align: right;\"> 36</td><td>BP;Conventional MAR systems often transition from oxic to anoxic zones.                                                  </td></tr>\n",
       "<tr><td style=\"text-align: right;\"> 37</td><td>BP;Suboxic and anoxic conditions perform poorly for some TOrCs.                                                          </td></tr>\n",
       "<tr><td style=\"text-align: right;\"> 38</td><td>BP;Gabapentin and benzotriazole removal improved under fully oxic.                                                       </td></tr>\n",
       "<tr><td style=\"text-align: right;\"> 39</td><td>BP;TOrC biotransformation is sensitive to redox state changes.                                                           </td></tr>\n",
       "<tr><td style=\"text-align: right;\"> 40</td><td>BP;The primary substrate (DOC/BDOC) significantly influences TOrC biotransformation.                                     </td></tr>\n",
       "<tr><td style=\"text-align: right;\"> 41</td><td>BP;BDOC concentration affects the total microbial biomass and diversity.                                                 </td></tr>\n",
       "<tr><td style=\"text-align: right;\"> 42</td><td>BP;Co-metabolism with primary substrate is proposed as a key TOrC removal mechanism.                                     </td></tr>\n",
       "<tr><td style=\"text-align: right;\"> 43</td><td>BP;Low BDOC concentrations (carbon-limited) can enhance TOrC removal.                                                    </td></tr>\n",
       "<tr><td style=\"text-align: right;\"> 44</td><td>BP;Oligotrophic (low carbon) conditions can increase microbial community diversity.                                      </td></tr>\n",
       "<tr><td style=\"text-align: right;\"> 45</td><td>BP;Increased microbial diversity can improve transformation of moderately degradable TOrCs.                              </td></tr>\n",
       "<tr><td style=\"text-align: right;\"> 46</td><td>BP;Primary substrate composition has a large impact on TOrC attenuation.                                                 </td></tr>\n",
       "<tr><td style=\"text-align: right;\"> 47</td><td>BP;Refractory carbon (like humic acid) improves moderately degradable TOrC removal.                                      </td></tr>\n",
       "<tr><td style=\"text-align: right;\"> 48</td><td>BP;Refractory carbon may promote the growth of specialized microbial groups.                                             </td></tr>\n",
       "<tr><td style=\"text-align: right;\"> 49</td><td>BP;Easily degradable TOrCs are often unaffected by substrate type or concentration.                                      </td></tr>\n",
       "<tr><td style=\"text-align: right;\"> 50</td><td>BP;Recalcitrant TOrCs show minimal removal regardless of primary substrate conditions.                                   </td></tr>\n",
       "<tr><td style=\"text-align: right;\"> 51</td><td>BP;Increased primary substrate loading can enhance co-metabolism; up to a limit.                                         </td></tr>\n",
       "<tr><td style=\"text-align: right;\"> 52</td><td>BP;Optimal primary substrate loading has upper and lower thresholds.                                                     </td></tr>\n",
       "<tr><td style=\"text-align: right;\"> 53</td><td>BP;The primary substrate can compete with TOrCs for enzyme active sites.                                                 </td></tr>\n",
       "<tr><td style=\"text-align: right;\"> 54</td><td>BP;Algal organic matter can negatively affect TOrC attenuation.                                                          </td></tr>\n",
       "<tr><td style=\"text-align: right;\"> 55</td><td>BP;Different primary substrates can influence the potential for enzyme expression.                                       </td></tr>\n",
       "<tr><td style=\"text-align: right;\"> 56</td><td>BP;Adaptation of the microbial community to complex carbon improves TOrC removal.                                        </td></tr>\n",
       "<tr><td style=\"text-align: right;\"> 57</td><td>BP;Single carbon sources are used to study specific metabolic pathways.                                                  </td></tr>\n",
       "<tr><td style=\"text-align: right;\"> 58</td><td>BP;BDOC levels simulating different effluent qualities affect removal.                                                   </td></tr>\n",
       "<tr><td style=\"text-align: right;\"> 59</td><td>BP;Some TOrCs exhibit inconsistent removal despite seemingly favorable carbon conditions.                                </td></tr>\n",
       "<tr><td style=\"text-align: right;\"> 60</td><td>BP;Biotransformation of TOrCs requires an enzyme catalyst.                                                               </td></tr>\n",
       "<tr><td style=\"text-align: right;\"> 61</td><td>BP;Enzyme presence depends on the subsurface microbial community.                                                        </td></tr>\n",
       "<tr><td style=\"text-align: right;\"> 62</td><td>BP;Microbial communities possess diverse enzymatic networks for biotransformation.                                       </td></tr>\n",
       "<tr><td style=\"text-align: right;\"> 63</td><td>BP;Promiscuous enzymes can catalyze reactions for multiple substrates.                                                   </td></tr>\n",
       "<tr><td style=\"text-align: right;\"> 64</td><td>BP;Enzymes are often located intracellularly.                                                                            </td></tr>\n",
       "<tr><td style=\"text-align: right;\"> 65</td><td>BP;Extracellular enzymes help transform large or ionized TOrCs.                                                          </td></tr>\n",
       "<tr><td style=\"text-align: right;\"> 66</td><td>BP;Both catabolic and anabolic enzymes play a role.                                                                      </td></tr>\n",
       "<tr><td style=\"text-align: right;\"> 67</td><td>BP;Enzymes responsible are expected to be compound-specific.                                                             </td></tr>\n",
       "<tr><td style=\"text-align: right;\"> 68</td><td>BP;Different enzyme families degrade various TOrCs.                                                                      </td></tr>\n",
       "<tr><td style=\"text-align: right;\"> 69</td><td>BP;Oxygenases are key enzymes in aerobic TOrC transformation.                                                            </td></tr>\n",
       "<tr><td style=\"text-align: right;\"> 70</td><td>BP;This includes mono- or dioxygenases for aromatic compounds.                                                           </td></tr>\n",
       "<tr><td style=\"text-align: right;\"> 71</td><td>BP;Dehydrogenases can participate in dehalogenation reactions.                                                           </td></tr>\n",
       "<tr><td style=\"text-align: right;\"> 72</td><td>BP;Ammonia monooxygenase (AMO) is relevant for many TOrCs.                                                               </td></tr>\n",
       "<tr><td style=\"text-align: right;\"> 73</td><td>BP;AMO often catalyzes hydroxylation reactions.                                                                          </td></tr>\n",
       "<tr><td style=\"text-align: right;\"> 74</td><td>BP;Heterotrophic bacteria express many different enzymatic activities.                                                   </td></tr>\n",
       "<tr><td style=\"text-align: right;\"> 75</td><td>BP;Heterotrophic enzymes perform oxidation; cleavage; and substitution.                                                  </td></tr>\n",
       "<tr><td style=\"text-align: right;\"> 76</td><td>BP;Glycosylases can cleave sugar moieties from TOrCs.                                                                    </td></tr>\n",
       "<tr><td style=\"text-align: right;\"> 77</td><td>BP;Acetate kinase can phosphorylate hydroxyl or carboxyl groups.                                                         </td></tr>\n",
       "<tr><td style=\"text-align: right;\"> 78</td><td>BP;Reductive dehalogenases; like PcbA1; perform dechlorination.                                                          </td></tr>\n",
       "<tr><td style=\"text-align: right;\"> 79</td><td>BP;O-demethylases facilitate O-demethylation reactions.                                                                  </td></tr>\n",
       "<tr><td style=\"text-align: right;\"> 80</td><td>BP;Enzyme activity is sensitive to environmental conditions.                                                             </td></tr>\n",
       "<tr><td style=\"text-align: right;\"> 81</td><td>BP;Redox conditions strongly influence enzymatic pathways.                                                               </td></tr>\n",
       "<tr><td style=\"text-align: right;\"> 82</td><td>BP;Primary substrate composition and concentration affect enzyme expression.                                             </td></tr>\n",
       "<tr><td style=\"text-align: right;\"> 83</td><td>BP;Refractory carbon can enhance the metabolic potential for xenobiotics.                                                </td></tr>\n",
       "<tr><td style=\"text-align: right;\"> 84</td><td>BP;Understanding pathways and enzymes is crucial for optimization.                                                       </td></tr>\n",
       "<tr><td style=\"text-align: right;\"> 85</td><td>BP;Enzyme inhibitors help determine contributions of specific activities.                                                </td></tr>\n",
       "<tr><td style=\"text-align: right;\"> 86</td><td>BP;Analysis of transformation products reveals involved enzymatic reactions.                                             </td></tr>\n",
       "<tr><td style=\"text-align: right;\"> 87</td><td>BP;Omics techniques help identify genes encoding relevant enzymes.                                                       </td></tr>\n",
       "<tr><td style=\"text-align: right;\"> 88</td><td>BP;In vitro assays explore enzyme function outside the cell.                                                             </td></tr>\n",
       "<tr><td style=\"text-align: right;\"> 89</td><td>BP;Competition for enzymatic active sites by primary substrate can occur.                                                </td></tr>\n",
       "<tr><td style=\"text-align: right;\"> 90</td><td>BP;Oligotrophic conditions; meaning low BDOC; are favorable for TOrC transformation.                                     </td></tr>\n",
       "<tr><td style=\"text-align: right;\"> 91</td><td>BP;Carbon-limited conditions generally enhance the removal of many TOrCs.                                                </td></tr>\n",
       "<tr><td style=\"text-align: right;\"> 92</td><td>BP;Low BDOC concentrations can increase microbial community diversity.                                                   </td></tr>\n",
       "<tr><td style=\"text-align: right;\"> 93</td><td>BP;Increased microbial diversity under oligotrophic conditions can improve transformation of moderately degradable TOrCs.</td></tr>\n",
       "<tr><td style=\"text-align: right;\"> 94</td><td>BP;Specialized microbial communities may develop under oligotrophic conditions.                                          </td></tr>\n",
       "<tr><td style=\"text-align: right;\"> 95</td><td>BP;These communities can grow on refractory carbon; potentially improving TOrC removal.                                  </td></tr>\n",
       "<tr><td style=\"text-align: right;\"> 96</td><td>BP;Refractory carbon in carbon-limited systems can enhance potential for xenobiotic degradation.                         </td></tr>\n",
       "<tr><td style=\"text-align: right;\"> 97</td><td>BP;The SMART technology aims to create and maintain carbon-limited conditions in its second step.                        </td></tr>\n",
       "<tr><td style=\"text-align: right;\"> 98</td><td>BP;SMART demonstrated enhanced TOrC biodegradation under these low carbon/oxic conditions.                               </td></tr>\n",
       "<tr><td style=\"text-align: right;\"> 99</td><td>BP;Oligotrophic metabolism is considered relevant for TOrC decay in low-carbon environments.                             </td></tr>\n",
       "<tr><td style=\"text-align: right;\">100</td><td>BP;Understanding the trophodynamic role of organic carbon in oligotrophic MAR is key.                                    </td></tr>\n",
       "<tr><td style=\"text-align: right;\">101</td><td>BP;BDOC concentration shapes microbial community structure and function.                                                 </td></tr>\n",
       "<tr><td style=\"text-align: right;\">102</td><td>BP;Microbial diversity tends to increase with decreasing BDOC concentrations.                                            </td></tr>\n",
       "<tr><td style=\"text-align: right;\">103</td><td>BP;There&#x27;s a threshold of carbon needed to sustain sufficient biomass for effective co-metabolic decay.                  </td></tr>\n",
       "<tr><td style=\"text-align: right;\">104</td><td>BP;Metabolic degradation is hypothesized under starving (very low BDOC) conditions for some TOrCs.                       </td></tr>\n",
       "<tr><td style=\"text-align: right;\">105</td><td>BP;Carbon limitation supports taxonomically and functionally rich microbial communities.                                 </td></tr>\n",
       "<tr><td style=\"text-align: right;\">106</td><td>BP;Microbial communities under carbon-limited conditions may use different enzymes for TOrC transformation.              </td></tr>\n",
       "<tr><td style=\"text-align: right;\">107</td><td>BP;Some TOrCs exhibit inconsistent transformation patterns even under optimized low carbon conditions.                   </td></tr>\n",
       "<tr><td style=\"text-align: right;\">108</td><td>BP;The composition of primary substrate has a large impact; especially under carbon-limited conditions.                  </td></tr>\n",
       "<tr><td style=\"text-align: right;\">109</td><td>BP;Studying single; low carbon sources helps identify biotransformation functions under specific carbon regimes.         </td></tr>\n",
       "<tr><td style=\"text-align: right;\">110</td><td>BP;Bacterial biotransformation relies on diverse enzymatic networks within the community.                                </td></tr>\n",
       "<tr><td style=\"text-align: right;\">111</td><td>BP;Enzymes involved in TOrC degradation are often compound-specific.                                                     </td></tr>\n",
       "<tr><td style=\"text-align: right;\">112</td><td>BP;Promiscuous enzymes can catalyze reactions for multiple different substrates.                                         </td></tr>\n",
       "<tr><td style=\"text-align: right;\">113</td><td>BP;Aerobic TOrC transformation frequently involves oxygenase enzymes.                                                    </td></tr>\n",
       "<tr><td style=\"text-align: right;\">114</td><td>BP;This includes mono- or dioxygenases; key for aerobic oxidation reactions.                                             </td></tr>\n",
       "<tr><td style=\"text-align: right;\">115</td><td>BP;Dehydrogenases are enzymes that can participate in dehalogenation reactions.                                          </td></tr>\n",
       "<tr><td style=\"text-align: right;\">116</td><td>BP;Ammonia monooxygenase (AMO) is relevant for hydroxylation pathways.                                                   </td></tr>\n",
       "<tr><td style=\"text-align: right;\">117</td><td>BP;Sulfamethoxazole transformation involves a specific pterin-conjugate pathway.                                         </td></tr>\n",
       "<tr><td style=\"text-align: right;\">118</td><td>BP;Sulfamethoxazole can also undergo N4-acetylation via microbial enzymes.                                               </td></tr>\n",
       "<tr><td style=\"text-align: right;\">119</td><td>BP;Atenolol might be transformed by amidohydrolase or deamination catalyzed by AMO.                                      </td></tr>\n",
       "<tr><td style=\"text-align: right;\">120</td><td>BP;Anaerobic transformations involve enzyme classes like reductases; transferases; and hydrolases.                       </td></tr>\n",
       "<tr><td style=\"text-align: right;\">121</td><td>BP;Acetate kinase can catalyze phosphorylation reactions under anaerobic conditions.                                     </td></tr>\n",
       "<tr><td style=\"text-align: right;\">122</td><td>BP;O-demethylases facilitate the removal of methyl groups bonded to oxygen anaerobically.                                </td></tr>\n",
       "<tr><td style=\"text-align: right;\">123</td><td>BP;Anaerobic SMX removal includes reductive transformation and isoxazole ring cleavage.                                  </td></tr>\n",
       "<tr><td style=\"text-align: right;\">124</td><td>BP;The same enzymatic activities can be present in different microbial groups.                                           </td></tr>\n",
       "<tr><td style=\"text-align: right;\">125</td><td>BP;Functional redundancy means multiple microorganisms or enzymes perform the same process.                              </td></tr>\n",
       "<tr><td style=\"text-align: right;\">126</td><td>BP;Acetate kinase is found in both fermentative bacteria and Methanosarcina archaea.                                     </td></tr>\n",
       "<tr><td style=\"text-align: right;\">127</td><td>BP;SMX is transformed by various microbial groups including methanogens; SRB; and fermenters.                            </td></tr>\n",
       "<tr><td style=\"text-align: right;\">128</td><td>BP;Heterotrophic bacteria demonstrate a wide range of enzymatic capabilities.                                            </td></tr>\n",
       "<tr><td style=\"text-align: right;\">129</td><td>BP;Identifying specific enzymes/pathways in complex mixed communities remains challenging.                               </td></tr>\n",
       "<tr><td style=\"text-align: right;\">130</td><td>BP;Microbial communities are key for TOrC biotransformation in MAR systems and WWTPs.                                    </td></tr>\n",
       "<tr><td style=\"text-align: right;\">131</td><td>BP;The structure and function of microbial communities significantly affect TOrC removal.                                </td></tr>\n",
       "<tr><td style=\"text-align: right;\">132</td><td>BP;Microbial diversity is influenced by BDOC concentration.                                                              </td></tr>\n",
       "<tr><td style=\"text-align: right;\">133</td><td>BP;Increased microbial diversity can improve transformation of moderate TOrCs.                                           </td></tr>\n",
       "<tr><td style=\"text-align: right;\">134</td><td>BP;Co-metabolism by microbial communities is proposed as the main mechanism for TOrC removal at trace levels.            </td></tr>\n",
       "<tr><td style=\"text-align: right;\">135</td><td>BP;Microbial communities use promiscuous enzymes for co-metabolic TOrC transformation.                                   </td></tr>\n",
       "<tr><td style=\"text-align: right;\">136</td><td>BP;Enzymatic networks within the microbial community determine biotransformation potential.                              </td></tr>\n",
       "<tr><td style=\"text-align: right;\">137</td><td>BP;Specific enzyme activities catalyze TOrC transformations within the community.                                        </td></tr>\n",
       "<tr><td style=\"text-align: right;\">138</td><td>BP;Heterotrophic bacteria possess diverse enzymatic activities for versatile TOrC transformation.                        </td></tr>\n",
       "<tr><td style=\"text-align: right;\">139</td><td>BP;Nitrifying microorganisms; particularly AOB and AOA enzymes; contribute to TOrC biotransformation.                    </td></tr>\n",
       "<tr><td style=\"text-align: right;\">140</td><td>BP;Different anaerobic microbial groups contribute to TOrC biotransformation.                                            </td></tr>\n",
       "<tr><td style=\"text-align: right;\">141</td><td>BP;Some enzymatic activities are shared across different microbial populations.                                          </td></tr>\n",
       "<tr><td style=\"text-align: right;\">142</td><td>BP;Functional redundancy means multiple microbes/enzymes perform the same TOrC process.                                  </td></tr>\n",
       "<tr><td style=\"text-align: right;\">143</td><td>BP;Microbial community adaptation to primary substrate strongly affects TOrC removal.                                    </td></tr>\n",
       "<tr><td style=\"text-align: right;\">144</td><td>BP;Slow-growing heterotrophs at high SRT can enhance TOrC oxidation.                                                     </td></tr>\n",
       "<tr><td style=\"text-align: right;\">145</td><td>BP;Cross-feeding between microorganisms can contribute to TOrC transformation in a community.                            </td></tr>\n",
       "<tr><td style=\"text-align: right;\">146</td><td>BP;Identifying specific enzymes/taxa in complex mixed communities remains challenging.                                   </td></tr>\n",
       "<tr><td style=\"text-align: right;\">147</td><td>BP;Omics techniques correlate community composition/genes with TOrC transformation.                                      </td></tr>\n",
       "<tr><td style=\"text-align: right;\">148</td><td>BP;Model microbial communities simplify studying complex interactions in TOrC degradation.                               </td></tr>\n",
       "<tr><td style=\"text-align: right;\">149</td><td>BP;Lack of specific degraders or enzymes in the community can limit TOrC biotransformation.                              </td></tr>\n",
       "</tbody>\n",
       "</table>"
      ],
      "text/plain": [
       "<IPython.core.display.HTML object>"
      ]
     },
     "metadata": {},
     "output_type": "display_data"
    }
   ],
   "source": [
    "ShowDF(BPDF)"
   ]
  },
  {
   "cell_type": "code",
   "execution_count": 33,
   "id": "7c1e2578",
   "metadata": {
    "ExecuteTime": {
     "end_time": "2025-04-30T12:22:36.163584Z",
     "start_time": "2025-04-30T12:22:36.142124Z"
    }
   },
   "outputs": [],
   "source": [
    "home=os.getcwd()\n",
    "folder='/CS/'\n",
    "for x in BPDF.index:\n",
    "    text=BPDF['BP;sentence'][x]\n",
    "    text=text.replace('BP;','-CS-')\n",
    "    FLoc=home+folder+str(x)+text+'txt'\n",
    "    Sen=open(FLoc,'w')\n",
    "    Sen.write(text)\n",
    "    Sen.close()\n",
    "    #print(FLoc)"
   ]
  },
  {
   "cell_type": "code",
   "execution_count": 27,
   "id": "54103d03",
   "metadata": {
    "ExecuteTime": {
     "end_time": "2025-04-30T12:19:44.784731Z",
     "start_time": "2025-04-30T12:19:44.780811Z"
    }
   },
   "outputs": [
    {
     "data": {
      "text/plain": [
       "'/home/edwin/0-GitHubProjects/Codding/SummariesDigestor'"
      ]
     },
     "execution_count": 27,
     "metadata": {},
     "output_type": "execute_result"
    }
   ],
   "source": [
    "import os\n"
   ]
  },
  {
   "cell_type": "code",
   "execution_count": 24,
   "id": "7e697abb",
   "metadata": {
    "ExecuteTime": {
     "end_time": "2025-04-30T12:19:00.990663Z",
     "start_time": "2025-04-30T12:19:00.986317Z"
    }
   },
   "outputs": [
    {
     "data": {
      "text/plain": [
       "<_io.TextIOWrapper name='ets.txt' mode='w' encoding='UTF-8'>"
      ]
     },
     "execution_count": 24,
     "metadata": {},
     "output_type": "execute_result"
    }
   ],
   "source": [
    "open('ets.txt','w')"
   ]
  }
 ],
 "metadata": {
  "kernelspec": {
   "display_name": "Python 3 (ipykernel)",
   "language": "python",
   "name": "python3"
  },
  "language_info": {
   "codemirror_mode": {
    "name": "ipython",
    "version": 3
   },
   "file_extension": ".py",
   "mimetype": "text/x-python",
   "name": "python",
   "nbconvert_exporter": "python",
   "pygments_lexer": "ipython3",
   "version": "3.7.13"
  }
 },
 "nbformat": 4,
 "nbformat_minor": 5
}
