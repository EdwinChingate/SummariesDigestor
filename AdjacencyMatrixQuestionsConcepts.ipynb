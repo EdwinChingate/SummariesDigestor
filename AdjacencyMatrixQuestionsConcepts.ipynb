{
 "cells": [
  {
   "cell_type": "code",
   "execution_count": 15,
   "id": "eddf8b66",
   "metadata": {
    "ExecuteTime": {
     "end_time": "2025-07-30T17:45:51.949706Z",
     "start_time": "2025-07-30T17:45:51.947167Z"
    }
   },
   "outputs": [],
   "source": [
    "import pandas as pd\n",
    "import numpy as np"
   ]
  },
  {
   "cell_type": "code",
   "execution_count": 3,
   "id": "6bf8211b",
   "metadata": {
    "ExecuteTime": {
     "end_time": "2025-07-30T17:41:35.937020Z",
     "start_time": "2025-07-30T17:41:35.903279Z"
    }
   },
   "outputs": [],
   "source": [
    "Mat_Q_C=pd.read_csv('adjacency_matrix_Questions-Concepts_20250730.csv',index_col=0)"
   ]
  },
  {
   "cell_type": "code",
   "execution_count": null,
   "id": "7a2d80c2",
   "metadata": {},
   "outputs": [],
   "source": []
  },
  {
   "cell_type": "code",
   "execution_count": 13,
   "id": "37374f8e",
   "metadata": {
    "ExecuteTime": {
     "end_time": "2025-07-30T17:45:32.352636Z",
     "start_time": "2025-07-30T17:45:32.346273Z"
    }
   },
   "outputs": [
    {
     "data": {
      "text/plain": [
       "0      0\n",
       "1      0\n",
       "2      0\n",
       "3      0\n",
       "4      0\n",
       "      ..\n",
       "267    0\n",
       "268    0\n",
       "269    0\n",
       "270    0\n",
       "271    0\n",
       "Name: Can you quantify molecular similarity?., Length: 272, dtype: int64"
      ]
     },
     "execution_count": 13,
     "metadata": {},
     "output_type": "execute_result"
    }
   ],
   "source": [
    "Mat_Q_C.iloc[100]"
   ]
  },
  {
   "cell_type": "code",
   "execution_count": 16,
   "id": "09a1b4f1",
   "metadata": {
    "ExecuteTime": {
     "end_time": "2025-07-30T17:45:57.814023Z",
     "start_time": "2025-07-30T17:45:57.810009Z"
    }
   },
   "outputs": [],
   "source": [
    "Q=np.array(Mat_Q_C.iloc[100])"
   ]
  },
  {
   "cell_type": "code",
   "execution_count": 17,
   "id": "a9df7389",
   "metadata": {
    "ExecuteTime": {
     "end_time": "2025-07-30T17:46:13.323077Z",
     "start_time": "2025-07-30T17:46:13.318609Z"
    }
   },
   "outputs": [
    {
     "data": {
      "text/plain": [
       "(array([172, 173, 206, 227]),)"
      ]
     },
     "execution_count": 17,
     "metadata": {},
     "output_type": "execute_result"
    }
   ],
   "source": [
    "np.where(Q>0)"
   ]
  },
  {
   "cell_type": "code",
   "execution_count": 21,
   "id": "78e9c3b0",
   "metadata": {
    "ExecuteTime": {
     "end_time": "2025-07-30T17:52:03.138260Z",
     "start_time": "2025-07-30T17:52:03.131808Z"
    }
   },
   "outputs": [
    {
     "data": {
      "text/plain": [
       "1089"
      ]
     },
     "execution_count": 21,
     "metadata": {},
     "output_type": "execute_result"
    }
   ],
   "source": [
    "len(sum(np.array(Mat_Q_C).T))"
   ]
  }
 ],
 "metadata": {
  "kernelspec": {
   "display_name": "Python 3 (ipykernel)",
   "language": "python",
   "name": "python3"
  },
  "language_info": {
   "codemirror_mode": {
    "name": "ipython",
    "version": 3
   },
   "file_extension": ".py",
   "mimetype": "text/x-python",
   "name": "python",
   "nbconvert_exporter": "python",
   "pygments_lexer": "ipython3",
   "version": "3.7.13"
  }
 },
 "nbformat": 4,
 "nbformat_minor": 5
}
